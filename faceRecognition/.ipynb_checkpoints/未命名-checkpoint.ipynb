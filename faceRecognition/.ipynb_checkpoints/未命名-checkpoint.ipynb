{
 "cells": [
  {
   "cell_type": "code",
   "execution_count": 2,
   "metadata": {},
   "outputs": [],
   "source": [
    "# import face_recognition\n",
    "import sys"
   ]
  },
  {
   "cell_type": "code",
   "execution_count": 3,
   "metadata": {},
   "outputs": [],
   "source": [
    "target_filename = sys.argv[1]\n",
    "unknown_filename = sys.argv[2]"
   ]
  },
  {
   "cell_type": "code",
   "execution_count": null,
   "metadata": {},
   "outputs": [],
   "source": [
    "picture_of_target = face_recognition.load_image_file(target_filename)\n",
    "my_face_encoding = face_recognition.face_encodings(picture_of_me)[0]\n",
    "\n",
    "# my_face_encoding now contains a universal 'encoding' of my facial features that can be compared to any other picture of a face!\n",
    "\n",
    "face_locations = face_recognition.face_locations(unknown_filename)\n",
    "face_encodings = face_recognition.face_encodings(unknown_filename, face_locations)\n",
    "\n",
    "detected = False\n",
    "for face_encoding in face_encodings:\n",
    "    # See if the face is a match for the known face(s)\n",
    "    result = face_recognition.compare_faces(known_face_encodings, face_encoding)\n",
    "    if(result[0] == True):\n",
    "        detected = True\n",
    "        break\n",
    "        \n",
    "if(detected == True):\n",
    "    print(1)\n",
    "else:\n",
    "    print(0)"
   ]
  },
  {
   "cell_type": "code",
   "execution_count": null,
   "metadata": {},
   "outputs": [],
   "source": [
    "face_locations = face_recognition.face_locations(unknown_filename)\n",
    "face_encodings = face_recognition.face_encodings(unknown_filename, face_locations)\n",
    "\n",
    "face_names = []\n",
    "for face_encoding in face_encodings:\n",
    "    # See if the face is a match for the known face(s)\n",
    "    matches = face_recognition.compare_faces(known_face_encodings, face_encoding)"
   ]
  }
 ],
 "metadata": {
  "kernelspec": {
   "display_name": "Python 3",
   "language": "python",
   "name": "python3"
  },
  "language_info": {
   "codemirror_mode": {
    "name": "ipython",
    "version": 3
   },
   "file_extension": ".py",
   "mimetype": "text/x-python",
   "name": "python",
   "nbconvert_exporter": "python",
   "pygments_lexer": "ipython3",
   "version": "3.7.4"
  }
 },
 "nbformat": 4,
 "nbformat_minor": 2
}
